{
  "nbformat": 4,
  "nbformat_minor": 0,
  "metadata": {
    "colab": {
      "provenance": [],
      "authorship_tag": "ABX9TyOdO3YZnzoyu05RIathZhDC",
      "include_colab_link": true
    },
    "kernelspec": {
      "name": "python3",
      "display_name": "Python 3"
    },
    "language_info": {
      "name": "python"
    }
  },
  "cells": [
    {
      "cell_type": "markdown",
      "metadata": {
        "id": "view-in-github",
        "colab_type": "text"
      },
      "source": [
        "<a href=\"https://colab.research.google.com/github/Dev-Field/MyAiCompanion/blob/main/ds0.ipynb\" target=\"_parent\"><img src=\"https://colab.research.google.com/assets/colab-badge.svg\" alt=\"Open In Colab\"/></a>"
      ]
    },
    {
      "cell_type": "code",
      "execution_count": null,
      "metadata": {
        "id": "XN9stemGT0Nv"
      },
      "outputs": [],
      "source": [
        "def locate_card(cards,query):\n",
        "  pass\n",
        "def test(cards,query,output):\n",
        "  pass\n",
        "#   test={\n",
        "#       \"input\":{\n",
        "#           \"cards\":cards,\n",
        "#       \"query\":query,\n",
        "\n",
        "#   },\n",
        "#     \"output\":output\n",
        "# }\n",
        "# if test[\"input\"][\"cards\"]\n",
        "cards=[13,11,10,8,4,3,2,1,0]\n",
        "query=10\n",
        "result=locae_card(cards,query)\n",
        "print(result)"
      ]
    }
  ]
}